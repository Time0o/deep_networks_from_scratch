{
 "cells": [
  {
   "cell_type": "code",
   "execution_count": null,
   "metadata": {},
   "outputs": [],
   "source": [
    "import os\n",
    "import sys; sys.path.append('../lib')\n",
    "from functools import partial\n",
    "\n",
    "import matplotlib.pyplot as plt\n",
    "import numpy as np\n",
    "\n",
    "from data import Text\n",
    "from gradients import compare_gradients_recurrent\n",
    "from history import TrainHistoryRecurrent\n",
    "from recurrent_network import RecurrentNetwork"
   ]
  },
  {
   "cell_type": "markdown",
   "metadata": {},
   "source": [
    "# Constants"
   ]
  },
  {
   "cell_type": "code",
   "execution_count": null,
   "metadata": {},
   "outputs": [],
   "source": [
    "DATA_DIR = '../data'\n",
    "PICKLE_DIR = '../pickle'\n",
    "FIGURE_DIR = '../figures'\n",
    "\n",
    "HYPERPARAMS = {\n",
    "    'hidden_state_size': 100,\n",
    "    'sequence_length': 25,\n",
    "    'eta': 0.1,\n",
    "    'updates': 100000\n",
    "}"
   ]
  },
  {
   "cell_type": "markdown",
   "metadata": {},
   "source": [
    "# Load data"
   ]
  },
  {
   "cell_type": "code",
   "execution_count": null,
   "metadata": {},
   "outputs": [],
   "source": [
    "text = Text.from_file(DATA_DIR, 'goblet_book.txt')"
   ]
  },
  {
   "cell_type": "markdown",
   "metadata": {},
   "source": [
    "# Compare analytical and numerical gradient"
   ]
  },
  {
   "cell_type": "code",
   "execution_count": null,
   "metadata": {},
   "outputs": [],
   "source": [
    "ds = text.sequence(beg=0,\n",
    "                   end=HYPERPARAMS['sequence_length'],\n",
    "                   rep='indices_one_hot',\n",
    "                   labeled=True)\n",
    "\n",
    "network_constructor = partial(\n",
    "    RecurrentNetwork,\n",
    "    input_size=text.num_characters,\n",
    "    hidden_state_size=5)\n",
    "\n",
    "compare_gradients_recurrent(network_constructor,\n",
    "                            ds,\n",
    "                            h=1e-4,\n",
    "                            random_seed=0)"
   ]
  },
  {
   "cell_type": "markdown",
   "metadata": {},
   "source": [
    "# Train network"
   ]
  },
  {
   "cell_type": "code",
   "execution_count": null,
   "metadata": {
    "scrolled": false
   },
   "outputs": [],
   "source": [
    "network = RecurrentNetwork(\n",
    "    input_size=text.num_characters,\n",
    "    hidden_state_size=HYPERPARAMS['hidden_state_size'],\n",
    "    random_seed=0)\n",
    "\n",
    "history = network.train(\n",
    "    text,\n",
    "    seq_length=HYPERPARAMS['sequence_length'],\n",
    "    eta=HYPERPARAMS['eta'],\n",
    "    n_updates=HYPERPARAMS['updates'],\n",
    "    verbose=True,\n",
    "    verbose_show_loss=False,\n",
    "    verbose_show_samples=True)\n",
    "\n",
    "history.save(PICKLE_DIR, postfix='rnn_goblet')"
   ]
  },
  {
   "cell_type": "code",
   "execution_count": null,
   "metadata": {},
   "outputs": [],
   "source": [
    "history = TrainHistoryRecurrent.load(PICKLE_DIR, postfix='rnn_goblet')"
   ]
  },
  {
   "cell_type": "code",
   "execution_count": null,
   "metadata": {},
   "outputs": [],
   "source": [
    "history.visualize()\n",
    "\n",
    "plt.savefig(os.path.join(FIGURE_DIR, 'rnn_loss.svg'))"
   ]
  },
  {
   "cell_type": "code",
   "execution_count": null,
   "metadata": {},
   "outputs": [],
   "source": [
    "np.random.seed(0)\n",
    "\n",
    "network = history.final_network\n",
    "\n",
    "sequence = network.synthesize(length=1000)\n",
    "\n",
    "sequence = text.get_characters(sequence, one_hot=True)\n",
    "\n",
    "print(sequence)"
   ]
  }
 ],
 "metadata": {
  "kernelspec": {
   "display_name": "Python 3",
   "language": "python",
   "name": "python3"
  },
  "language_info": {
   "codemirror_mode": {
    "name": "ipython",
    "version": 3
   },
   "file_extension": ".py",
   "mimetype": "text/x-python",
   "name": "python",
   "nbconvert_exporter": "python",
   "pygments_lexer": "ipython3",
   "version": "3.6.8"
  }
 },
 "nbformat": 4,
 "nbformat_minor": 2
}
