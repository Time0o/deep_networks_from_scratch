{
 "cells": [
  {
   "cell_type": "code",
   "execution_count": 18,
   "metadata": {},
   "outputs": [],
   "source": [
    "import os\n",
    "import sys; sys.path.append('../lib')\n",
    "from functools import partial\n",
    "\n",
    "import matplotlib.pyplot as plt\n",
    "import numpy as np\n",
    "\n",
    "from data import Text\n",
    "from gradients import compare_gradients_recurrent\n",
    "from history import TrainHistoryRecurrent\n",
    "from recurrent_network import RecurrentNetwork"
   ]
  },
  {
   "cell_type": "markdown",
   "metadata": {},
   "source": [
    "# Constants"
   ]
  },
  {
   "cell_type": "code",
   "execution_count": 4,
   "metadata": {},
   "outputs": [],
   "source": [
    "DATA_DIR = '../data'\n",
    "PICKLE_DIR = '../pickle'\n",
    "FIGURE_DIR = '../figures'\n",
    "\n",
    "HYPERPARAMS = {\n",
    "    'hidden_state_size': 100,\n",
    "    'sequence_length': 25,\n",
    "    'eta': 0.1,\n",
    "    'updates': 100000\n",
    "}"
   ]
  },
  {
   "cell_type": "markdown",
   "metadata": {},
   "source": [
    "# Load data"
   ]
  },
  {
   "cell_type": "code",
   "execution_count": 5,
   "metadata": {},
   "outputs": [],
   "source": [
    "text = Text(DATA_DIR, 'goblet_book.txt')"
   ]
  },
  {
   "cell_type": "markdown",
   "metadata": {},
   "source": [
    "# Compare analytical and numerical gradient"
   ]
  },
  {
   "cell_type": "code",
   "execution_count": 6,
   "metadata": {},
   "outputs": [
    {
     "name": "stdout",
     "output_type": "stream",
     "text": [
      "U:\n",
      "Absolute difference: max = 4.69e-08, mean = 2.23e-09, std = 6.53e-09\n",
      "Relative difference: max = 7.12e-05, mean = 4.89e-07, std = 4.07e-06\n",
      "\n",
      "V:\n",
      "Absolute difference: max = 2.35e-09, mean = 1.27e-09, std = 5.41e-10\n",
      "Relative difference: max = 5.02e-06, mean = 1.39e-06, std = 1.41e-06\n",
      "\n",
      "W:\n",
      "Absolute difference: max = 4.24e-08, mean = 5.34e-09, std = 1.16e-08\n",
      "Relative difference: max = 5.02e-04, mean = 3.37e-05, std = 1.04e-04\n",
      "\n",
      "b:\n",
      "Absolute difference: max = 2.03e-07, mean = 1.56e-07, std = 3.38e-08\n",
      "Relative difference: max = 1.31e-05, mean = 4.74e-06, std = 4.56e-06\n",
      "\n",
      "c:\n",
      "Absolute difference: max = 1.54e-05, mean = 1.54e-05, std = 7.60e-10\n",
      "Relative difference: max = 2.47e-05, mean = 2.17e-05, std = 6.62e-06\n",
      "\n"
     ]
    }
   ],
   "source": [
    "ds = text.sequence(beg=0,\n",
    "                   end=HYPERPARAMS['sequence_length'],\n",
    "                   rep='indices_one_hot',\n",
    "                   labeled=True)\n",
    "\n",
    "network_constructor = partial(\n",
    "    RecurrentNetwork,\n",
    "    input_size=text.num_characters,\n",
    "    hidden_state_size=5)\n",
    "\n",
    "compare_gradients_recurrent(network_constructor,\n",
    "                            ds,\n",
    "                            h=1e-4,\n",
    "                            random_seed=0)"
   ]
  },
  {
   "cell_type": "markdown",
   "metadata": {},
   "source": [
    "# Train network"
   ]
  },
  {
   "cell_type": "code",
   "execution_count": 7,
   "metadata": {
    "scrolled": false
   },
   "outputs": [
    {
     "name": "stdout",
     "output_type": "stream",
     "text": [
      "iteration 0/100000:\n",
      "Gitzx;2L)dSüDRFEkmo/üQaHyP\"Q:muvQzSqdYwEsNqKyEFB;EOuüWAJ?P\n",
      "9cnh2\"MNENyjTQ9O')EhFkT7mAfQOoYPuRHLdr^X     OYN?    exH     oRKsD?\n",
      "WEbGC_?ü67EEJBn NTD sxhBh_\n",
      "wk0SO^}U_MIYX_GmhaF4MrXXD,aYo0qg}'DwüQhQKJfs7Mmyi_NU-}CCO\n",
      "\n",
      "iteration 10000/100000:\n",
      "rsurof tarplorisn!\" shad, in d Mr seat?\" Ha drecsy the qugels ofg amuinp ap was\n",
      "Cwowthaln aroid he doked Boll, wate wai:  Bived. .  \"Ap leccetinghe abon't Hind\n",
      "Draverill, y be,  ofbecal mav'igg To the\n",
      "\n",
      "iteration 20000/100000:\n",
      "iciint astlore't Hacry wass hit wee pretemee wonqenory got was sibked Hermiot\n",
      "thas nosthoke heren ferimaide's - waicce of the Gromittouts jusuy stranh es,\n",
      "obostinon,\"  \"He peale Harnyon hes - you lack\n",
      "\n",
      "iteration 30000/100000:\n",
      "ir - in the has mud a faistels ar Flinks as takeinge well comblens dis ham\n",
      "Chothe looking hir! .....  Reeked to knou the ouse Dicep conost, dood the ould\n",
      "fue lyon harre fild his pEin in he ss.  \"Bege\n",
      "\n",
      "iteration 40000/100000:\n",
      "wer, myting the me ons, Vliat uSiled now nat the cracter threm, dammaiffors asee\n",
      "on so not noth logkent.  Atly wans naldsing stawn mentlys.. \"Yearmell fouby whe\n",
      "of'th. Voldewer he lappeatti- andoled h\n",
      "\n",
      "iteration 50000/100000:\n",
      "rey. \"You chald to and anement beinged onettmered Magll, and Pangr, they hrout\n",
      "grow fraike yot Portanffed youtind a his wastair, Mngored stasteddess ther ao\n",
      "happeely- ops ght him. \"Yead was and at Vem\n",
      "\n",
      "iteration 60000/100000:\n",
      "\" Foral for souppe.\" Hars bugalimasenl though as redver thoagh from the stary a\n",
      "Srlitcey a dood the maten he ceppent and his bascrang heer.  \"       Aubbetare\n",
      "fromedion wh is to and bead?\"  Row Ron oustatai\n",
      "\n",
      "iteration 70000/100000:\n",
      "cmooce was be had fon Terem a that Furpiringe,\" saighboslays. \"The could\n",
      "benasted blosmookingly and with spettorted Mode at the Baving her nair!\" yound\n",
      "apto on you Ron havs, . . you to wuren wollad tu\n",
      "\n",
      "iteration 80000/100000:\n",
      "are Wecagacled coidisten't sredit and a Prougrode Nerred if resned, lloke at\n",
      "enlameloblinse anst dother pold Squexe soppaiserth?, alls. Mr.. . nomaperin; to\n",
      "acimef loom?\" said Hermione hagh, wat opeen\n",
      "\n",
      "iteration 90000/100000:\n",
      "t, the Fakenors same Chertappinet to Rour nir oke.  Harry be yourmblen which and\n",
      "warne cotilf had might.\" Vo he kileed fehts to mud Harry was Fond we healde\n",
      "fayter ois he he said Harryeser wisher his\n",
      "\n",
      "iteration 100000/100000:\n",
      "hat had hatcherould the cound been a who do moth ofter, was to kit day flookry?\"\n",
      "they dobdech shouthly the ficess for ligherping Cridk eyere asp banfing are she\n",
      "andstedsech Muggly, \"Thearnd the dilie\n",
      "\n"
     ]
    }
   ],
   "source": [
    "network = RecurrentNetwork(\n",
    "    input_size=text.num_characters,\n",
    "    hidden_state_size=HYPERPARAMS['hidden_state_size'],\n",
    "    random_seed=0)\n",
    "\n",
    "history = network.train(\n",
    "    text,\n",
    "    sequence_length=HYPERPARAMS['sequence_length'],\n",
    "    eta=HYPERPARAMS['eta'],\n",
    "    n_updates=HYPERPARAMS['updates'],\n",
    "    verbose=True,\n",
    "    verbose_show_loss=False,\n",
    "    verbose_show_samples=True)\n",
    "\n",
    "history.save(PICKLE_DIR, postfix='rnn_goblet')"
   ]
  },
  {
   "cell_type": "code",
   "execution_count": 19,
   "metadata": {},
   "outputs": [
    {
     "data": {
      "image/png": "[encoded data removed]",
      "text/plain": [
       "<Figure size 720x360 with 1 Axes>"
      ]
     },
     "metadata": {},
     "output_type": "display_data"
    }
   ],
   "source": [
    "history = TrainHistoryRecurrent.load(PICKLE_DIR, postfix='rnn_goblet')\n",
    "\n",
    "history.visualize()\n",
    "\n",
    "plt.savefig(os.path.join(FIGURE_DIR, 'rnn_loss.svg'))"
   ]
  },
  {
   "cell_type": "code",
   "execution_count": 14,
   "metadata": {},
   "outputs": [
    {
     "name": "stdout",
     "output_type": "stream",
     "text": [
      "  \"Ss Ap, glart dime up iturr mure eyon intercicred and he not and haired hid terstery and which that tnoun there frempel?\" Crexilves Seainsad on reed everitge . . dohe coulded bech had we him out fot Dumaisioce.  Jlut thit's seaink bers rabled the preying and becpoofsly.  He weat, sking, agneyed tath his exict. Herdied his with as.  \"Whon hip sprested my tomocglle was goned it her, Cup am bake eletiot com the look. \"Wul his cal Mr.  CrouD beain't then\" Harry and Cedry't they yslip; nlistinf the rooulted uf were verie and whe the that tild he more  pourd faomed lown like in you congorexing and onl's maclad, a stostastlane all Harry alite outhing shot was dento they, coupe was juimaine.  Andy reameles.\"\n",
      "He kitt shousiess were he fack to a dave his lyosstremeding lye, pume.  Bowing estistring.\n",
      "\"Dobneg he porive feat in themadyed of frong.  Ye maded theilus olven the it.  Harry she he he as sume, ko sleamss wesly of hambly Poofo't sarene.  Vo thating and ang ithe! into't ap leonst to kite\n"
     ]
    }
   ],
   "source": [
    "np.random.seed(0)\n",
    "\n",
    "sequence = network.synthesize(\n",
    "    x_init=text.get_index('.', one_hot=True),\n",
    "    length=1000)\n",
    "\n",
    "sequence = text.get_characters(sequence, one_hot=True)\n",
    "\n",
    "print(sequence)"
   ]
  }
 ],
 "metadata": {
  "kernelspec": {
   "display_name": "Python 3",
   "language": "python",
   "name": "python3"
  },
  "language_info": {
   "codemirror_mode": {
    "name": "ipython",
    "version": 3
   },
   "file_extension": ".py",
   "mimetype": "text/x-python",
   "name": "python",
   "nbconvert_exporter": "python",
   "pygments_lexer": "ipython3",
   "version": "3.6.8"
  }
 },
 "nbformat": 4,
 "nbformat_minor": 2
}
