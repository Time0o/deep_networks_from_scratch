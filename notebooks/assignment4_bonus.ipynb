{
 "cells": [
  {
   "cell_type": "code",
   "execution_count": null,
   "metadata": {},
   "outputs": [],
   "source": [
    "import math\n",
    "import os\n",
    "import sys; sys.path.append('../lib')\n",
    "from functools import partial\n",
    "from time import time\n",
    "\n",
    "import matplotlib.pyplot as plt\n",
    "import numpy as np\n",
    "\n",
    "from data import Text, TrumpTweetArchive\n",
    "from history import TrainHistoryRecurrent\n",
    "from recurrent_network import RecurrentNetwork"
   ]
  },
  {
   "cell_type": "markdown",
   "metadata": {},
   "source": [
    "# Constants"
   ]
  },
  {
   "cell_type": "code",
   "execution_count": null,
   "metadata": {},
   "outputs": [],
   "source": [
    "DATA_DIR = '../data'\n",
    "PICKLE_DIR = '../pickle'\n",
    "FIGURE_DIR = '../figures'\n",
    "\n",
    "HYPERPARAMS = {\n",
    "    'hidden_state_size': 100,\n",
    "    'sequence_length': 15,\n",
    "    'eta': 0.1,\n",
    "    'epochs': 5\n",
    "}"
   ]
  },
  {
   "cell_type": "markdown",
   "metadata": {},
   "source": [
    "# Load data"
   ]
  },
  {
   "cell_type": "code",
   "execution_count": null,
   "metadata": {},
   "outputs": [],
   "source": [
    "tweet_archive = TrumpTweetArchive(DATA_DIR, 'condensed_201*.json')\n",
    "\n",
    "start_one_hot = tweet_archive.get_start_character(rep='index_one_hot')\n",
    "stop_one_hot = tweet_archive.get_stop_character(rep='index_one_hot')"
   ]
  },
  {
   "cell_type": "code",
   "execution_count": null,
   "metadata": {},
   "outputs": [],
   "source": [
    "tweet_archive.num_tweets"
   ]
  },
  {
   "cell_type": "code",
   "execution_count": null,
   "metadata": {},
   "outputs": [],
   "source": [
    "tweet_archive.random_preview()"
   ]
  },
  {
   "cell_type": "markdown",
   "metadata": {},
   "source": [
    "# Train network"
   ]
  },
  {
   "cell_type": "code",
   "execution_count": null,
   "metadata": {},
   "outputs": [],
   "source": [
    "network = RecurrentNetwork(\n",
    "    input_size=tweet_archive.num_characters,\n",
    "    hidden_state_size=HYPERPARAMS['hidden_state_size'],\n",
    "    random_seed=0)\n",
    "\n",
    "for e in range(HYPERPARAMS['epochs']):\n",
    "    # shuffle tweets\n",
    "    tweets_shuffled = np.random.permutation(\n",
    "        tweet_archive.num_tweets)\n",
    "\n",
    "    for i, j in enumerate(tweets_shuffled):\n",
    "        tweet = tweet_archive.tweets[j]\n",
    "\n",
    "        fmt = \"\\repoch {}: [{:50s}]\"\n",
    "        bar = '=' * (50 * (i + 1) // tweet_archive.num_tweets)\n",
    "        msg = fmt.format(e + 1, bar)\n",
    "\n",
    "        if i == tweet_archive.num_tweets - 1:\n",
    "            print(msg, end='\\n\\n')\n",
    "        else:\n",
    "            print(msg, end='')\n",
    "\n",
    "        history = network.train(\n",
    "            tweet,\n",
    "            seq_length=HYPERPARAMS['sequence_length'],\n",
    "            eta=HYPERPARAMS['eta'],\n",
    "            n_updates=math.inf,\n",
    "            n_epochs=1,\n",
    "            skip_incomplete=False,\n",
    "            continue_training=True,\n",
    "            find_best_params=False)\n",
    "\n",
    "    print(\"synthesized tweets:\\n\")\n",
    "\n",
    "    for i in range(5):\n",
    "        sequence = network.synthesize(\n",
    "            length=140,\n",
    "            init_one_hot=start_one_hot,\n",
    "            stop_character_one_hot=stop_one_hot)\n",
    "\n",
    "        sample_tweet = tweet_archive.get_characters(\n",
    "            sequence, one_hot=True)\n",
    "\n",
    "        print(sample_tweet + '\\n')\n",
    "\n",
    "history.save(PICKLE_DIR, postfix='rnn_trump')"
   ]
  },
  {
   "cell_type": "code",
   "execution_count": null,
   "metadata": {},
   "outputs": [],
   "source": [
    "history = TrainHistoryRecurrent.load(PICKLE_DIR, postfix='rnn_trump')"
   ]
  },
  {
   "cell_type": "code",
   "execution_count": null,
   "metadata": {},
   "outputs": [],
   "source": [
    "history.visualize()\n",
    "\n",
    "plt.savefig(os.path.join(FIGURE_DIR, 'rnn_tweets.svg'))"
   ]
  },
  {
   "cell_type": "code",
   "execution_count": null,
   "metadata": {},
   "outputs": [],
   "source": [
    "np.random.seed(0)\n",
    "\n",
    "for i in range(10):\n",
    "    network = history.final_network\n",
    "\n",
    "    sequence = network.synthesize(\n",
    "        length=140,\n",
    "        init_one_hot=start_one_hot,\n",
    "        stop_character_one_hot=stop_one_hot)\n",
    "\n",
    "    sequence = tweet_archive.get_characters(sequence, one_hot=True)\n",
    "\n",
    "    print(sequence + '\\n')"
   ]
  }
 ],
 "metadata": {
  "kernelspec": {
   "display_name": "Python 3",
   "language": "python",
   "name": "python3"
  },
  "language_info": {
   "codemirror_mode": {
    "name": "ipython",
    "version": 3
   },
   "file_extension": ".py",
   "mimetype": "text/x-python",
   "name": "python",
   "nbconvert_exporter": "python",
   "pygments_lexer": "ipython3",
   "version": "3.6.8"
  }
 },
 "nbformat": 4,
 "nbformat_minor": 2
}
