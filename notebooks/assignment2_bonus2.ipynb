{
 "cells": [
  {
   "cell_type": "code",
   "execution_count": null,
   "metadata": {},
   "outputs": [],
   "source": [
    "import os\n",
    "import sys; sys.path.append('../lib')\n",
    "from functools import partial\n",
    "\n",
    "import matplotlib.pyplot as plt\n",
    "\n",
    "from assignment2 import visualize_learning_curves\n",
    "from data import Cifar\n",
    "from history import TrainHistory\n",
    "from search import SearchResultSeries\n",
    "from two_layer_fully_connected import TwoLayerFullyConnected"
   ]
  },
  {
   "cell_type": "markdown",
   "metadata": {},
   "source": [
    "# Constants"
   ]
  },
  {
   "cell_type": "code",
   "execution_count": null,
   "metadata": {},
   "outputs": [],
   "source": [
    "DATA_DIR = '../data'\n",
    "PICKLE_DIR = '../pickle'\n",
    "FIGURE_DIR = '../figures'\n",
    "\n",
    "HIDDEN_NODES = 50"
   ]
  },
  {
   "cell_type": "markdown",
   "metadata": {},
   "source": [
    "# Load dataset"
   ]
  },
  {
   "cell_type": "code",
   "execution_count": null,
   "metadata": {},
   "outputs": [],
   "source": [
    "dataset = Cifar(DATA_DIR)"
   ]
  },
  {
   "cell_type": "markdown",
   "metadata": {},
   "source": [
    "# Split into training, validation and test set"
   ]
  },
  {
   "cell_type": "code",
   "execution_count": null,
   "metadata": {},
   "outputs": [],
   "source": [
    "data_train, data_val, data_test = dataset.train_val_test_split(\n",
    "    n_val=1000, normalize='zscore')"
   ]
  },
  {
   "cell_type": "markdown",
   "metadata": {},
   "source": [
    "# Default network constructor"
   ]
  },
  {
   "cell_type": "code",
   "execution_count": null,
   "metadata": {},
   "outputs": [],
   "source": [
    "search_results = SearchResultSeries.load(PICKLE_DIR, postfix='fine')\n",
    "\n",
    "default_network = partial(\n",
    "    TwoLayerFullyConnected,\n",
    "    input_size=data_train.input_size,\n",
    "    hidden_nodes=HIDDEN_NODES,\n",
    "    num_classes=data_train.num_classes,\n",
    "    alpha=search_results.optimum()['alpha'],\n",
    "    random_seed=0)"
   ]
  },
  {
   "cell_type": "markdown",
   "metadata": {},
   "source": [
    "# Find good range for $\\eta$"
   ]
  },
  {
   "cell_type": "code",
   "execution_count": null,
   "metadata": {},
   "outputs": [],
   "source": [
    "network = default_network()\n",
    "\n",
    "network.lr_range_test(data_train,\n",
    "                      eta_low=-5,\n",
    "                      eta_high=-1,\n",
    "                      logarithmic=True,\n",
    "                      verbose=True)\n",
    "\n",
    "plt.savefig(os.path.join(FIGURE_DIR, 'lr_range_log.svg'))"
   ]
  },
  {
   "cell_type": "code",
   "execution_count": null,
   "metadata": {},
   "outputs": [],
   "source": [
    "network = default_network()\n",
    "\n",
    "network.lr_range_test(data_train,\n",
    "                      eta_low=1e-5,\n",
    "                      eta_high=0.2,\n",
    "                      verbose=True)\n",
    "\n",
    "plt.savefig(os.path.join(FIGURE_DIR, 'lr_range_linear.svg'))"
   ]
  },
  {
   "cell_type": "code",
   "execution_count": null,
   "metadata": {},
   "outputs": [],
   "source": [
    "eta_max = 0.025\n",
    "eta_min = 1e-4"
   ]
  },
  {
   "cell_type": "markdown",
   "metadata": {},
   "source": [
    "# Train and evaluate network"
   ]
  },
  {
   "cell_type": "code",
   "execution_count": null,
   "metadata": {},
   "outputs": [],
   "source": [
    "network = default_network()\n",
    "\n",
    "history = network.train_cyclic(data_train,\n",
    "                               data_val,\n",
    "                               eta_min=eta_min,\n",
    "                               eta_max=eta_max,\n",
    "                               eta_ss=(2 * data_train.n // 100),\n",
    "                               n_cycles=3,\n",
    "                               verbose=True)\n",
    "\n",
    "history.save(PICKLE_DIR, postfix='lr_range_train')"
   ]
  },
  {
   "cell_type": "code",
   "execution_count": null,
   "metadata": {},
   "outputs": [],
   "source": [
    "history = TrainHistory.load(PICKLE_DIR, postfix='lr_range_train')"
   ]
  },
  {
   "cell_type": "code",
   "execution_count": null,
   "metadata": {},
   "outputs": [],
   "source": [
    "visualize_learning_curves(history)\n",
    "\n",
    "plt.savefig(os.path.join(FIGURE_DIR, 'curves_lr_range_train.svg'))"
   ]
  },
  {
   "cell_type": "code",
   "execution_count": null,
   "metadata": {},
   "outputs": [],
   "source": [
    "history.final_network.visualize_performance(data_test)\n",
    "\n",
    "plt.savefig(os.path.join(FIGURE_DIR, 'performance_lr_range_train.svg'))"
   ]
  }
 ],
 "metadata": {
  "kernelspec": {
   "display_name": "Python 3",
   "language": "python",
   "name": "python3"
  },
  "language_info": {
   "codemirror_mode": {
    "name": "ipython",
    "version": 3
   },
   "file_extension": ".py",
   "mimetype": "text/x-python",
   "name": "python",
   "nbconvert_exporter": "python",
   "pygments_lexer": "ipython3",
   "version": "3.6.8"
  }
 },
 "nbformat": 4,
 "nbformat_minor": 2
}
