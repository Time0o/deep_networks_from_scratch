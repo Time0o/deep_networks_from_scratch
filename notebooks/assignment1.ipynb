{
 "cells": [
  {
   "cell_type": "code",
   "execution_count": null,
   "metadata": {},
   "outputs": [],
   "source": [
    "import os\n",
    "import sys; sys.path.append('../lib')\n",
    "\n",
    "import matplotlib.pyplot as plt\n",
    "import numpy as np; np.random.seed(0)\n",
    "\n",
    "from data import Cifar\n",
    "from gradients import compare_gradients\n",
    "from networks import SingleLayerFullyConnected, TrainHistory"
   ]
  },
  {
   "cell_type": "markdown",
   "metadata": {},
   "source": [
    "# Constants"
   ]
  },
  {
   "cell_type": "code",
   "execution_count": null,
   "metadata": {},
   "outputs": [],
   "source": [
    "DATA_DIR = '../data'\n",
    "PICKLE_DIR = '../pickle'\n",
    "\n",
    "HYPERPARAM_ = {\n",
    "    'alpha': [0, 0, 0.1, 1],\n",
    "    'eta': [0.1, 0.01, 0.01, 0.01]\n",
    "}"
   ]
  },
  {
   "cell_type": "markdown",
   "metadata": {},
   "source": [
    "# Load dataset"
   ]
  },
  {
   "cell_type": "code",
   "execution_count": null,
   "metadata": {},
   "outputs": [],
   "source": [
    "dataset = Cifar(DATA_DIR)"
   ]
  },
  {
   "cell_type": "markdown",
   "metadata": {},
   "source": [
    "# Preview data"
   ]
  },
  {
   "cell_type": "code",
   "execution_count": null,
   "metadata": {},
   "outputs": [],
   "source": [
    "dataset.preview()"
   ]
  },
  {
   "cell_type": "markdown",
   "metadata": {},
   "source": [
    "# Split into training, validation and test set"
   ]
  },
  {
   "cell_type": "code",
   "execution_count": null,
   "metadata": {},
   "outputs": [],
   "source": [
    "data_train, data_val, data_test = \\\n",
    "    dataset.train_val_test_split(n_train=10000, n_val=10000)"
   ]
  },
  {
   "cell_type": "markdown",
   "metadata": {},
   "source": [
    "# Compare analytical and numerical gradient"
   ]
  },
  {
   "cell_type": "code",
   "execution_count": null,
   "metadata": {},
   "outputs": [],
   "source": [
    "params = [(1, 20, 0), (1, 20, 0.5), (20, 20, 0), (20, 20, 0.5)]\n",
    "\n",
    "compare_gradients(SingleLayerFullyConnected, data_train, params)"
   ]
  },
  {
   "cell_type": "markdown",
   "metadata": {},
   "source": [
    "# Train networks"
   ]
  },
  {
   "cell_type": "code",
   "execution_count": null,
   "metadata": {},
   "outputs": [],
   "source": [
    "n_epochs = 40\n",
    "\n",
    "for alpha, eta in zip(HYPERPARAMS['alpha'], HYPERPARAMS['eta']):\n",
    "    network = SingleLayerFullyConnected(\n",
    "        data_train.input_size, data_train.num_classes, alpha=alpha)\n",
    "\n",
    "    history = network.train(data_train,\n",
    "                            data_val,\n",
    "                            n_epochs=n_epochs,\n",
    "                            verbose=True)\n",
    "\n",
    "    history.save(PICKLE_DIR, [('alpha', alpha), ('eta', eta)])"
   ]
  },
  {
   "cell_type": "code",
   "execution_count": null,
   "metadata": {},
   "outputs": [],
   "source": [
    "histories = {}\n",
    "titles = {}\n",
    "\n",
    "for alpha, eta in zip(HYPERPARAMS['alpha'], HYPERPARAMS['eta']):\n",
    "    histories[(alpha, eta)] = TrainHistory.load(\n",
    "        PICKLE_DIR, [('alpha', alpha), ('eta', eta)])\n",
    "\n",
    "    fmt = r\"$\\lambda = {}$, $\\eta = {}$\"\n",
    "    titles[(alpha, eta)] = fmt.format(alpha, eta)"
   ]
  },
  {
   "cell_type": "markdown",
   "metadata": {},
   "source": [
    "# Visualize learning curves"
   ]
  },
  {
   "cell_type": "code",
   "execution_count": null,
   "metadata": {},
   "outputs": [],
   "source": [
    "_, axes = plt.subplots(\n",
    "    NUM_HYPERPARAMS, 2, figsize=(10, 5 * NUM_HYPERPARAMS))\n",
    "\n",
    "for i, params in enumerate(zip(HYPERPARAMS['alpha'],\n",
    "                               HYPERPARAMS['eta'])):\n",
    "\n",
    "    histories[params].visualize(axes=axes[i, :], title=titles[params])"
   ]
  },
  {
   "cell_type": "markdown",
   "metadata": {},
   "source": [
    "# Analyse network performance"
   ]
  },
  {
   "cell_type": "code",
   "execution_count": null,
   "metadata": {},
   "outputs": [],
   "source": [
    "_, axes = plt.subplots(\n",
    "    NUM_HYPERPARAMS // 2, 2, figsize=(10, 5 * NUM_HYPERPARAMS // 2))\n",
    "\n",
    "axes = axes.flatten()\n",
    "\n",
    "for i, params in enumerate(zip(HYPERPARAMS['alpha'],\n",
    "                               HYPERPARAMS['eta'])):\n",
    "\n",
    "    histories[params].final_network.visualize_performance(\n",
    "        data_test, ax=axes[i], title=titles[params])"
   ]
  },
  {
   "cell_type": "markdown",
   "metadata": {},
   "source": [
    "# Visualize parameters"
   ]
  },
  {
   "cell_type": "code",
   "execution_count": null,
   "metadata": {},
   "outputs": [],
   "source": [
    "_, axes = plt.subplots(\n",
    "    NUM_HYPERPARAMS, data_train.num_classes, figsize=(12, 6))\n",
    "\n",
    "for i, params in enumerate(zip(HYPERPARAMS['alpha'],\n",
    "                               HYPERPARAMS['eta'])):\n",
    "\n",
    "    histories[params].final_network.visualize_weights(axes=axes[i, :])\n",
    "\n",
    "    axes[i, 0].set_ylabel(titles[params], labelpad=50, rotation=0)\n",
    "\n",
    "for ax, label in zip(axes[-1, :], data_train.labels):\n",
    "    ax.set_xlabel(label, rotation=45)"
   ]
  }
 ],
 "metadata": {
  "git": {
   "suppress_outputs": true
  },
  "kernelspec": {
   "display_name": "Python 3",
   "language": "python",
   "name": "python3"
  },
  "language_info": {
   "codemirror_mode": {
    "name": "ipython",
    "version": 3
   },
   "file_extension": ".py",
   "mimetype": "text/x-python",
   "name": "python",
   "nbconvert_exporter": "python",
   "pygments_lexer": "ipython3",
   "version": "3.6.8"
  }
 },
 "nbformat": 4,
 "nbformat_minor": 2
}