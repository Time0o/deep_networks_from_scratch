{
 "cells": [
  {
   "cell_type": "code",
   "execution_count": null,
   "metadata": {},
   "outputs": [],
   "source": [
    "import os\n",
    "import sys; sys.path.append('../lib')\n",
    "\n",
    "import matplotlib.pyplot as plt\n",
    "\n",
    "from assignment1 import *\n",
    "from data import Cifar\n",
    "from gradients import compare_gradients\n",
    "from networks import SingleLayerFullyConnected"
   ]
  },
  {
   "cell_type": "markdown",
   "metadata": {},
   "source": [
    "# Constants"
   ]
  },
  {
   "cell_type": "code",
   "execution_count": null,
   "metadata": {},
   "outputs": [],
   "source": [
    "DATA_DIR = '../data'\n",
    "PICKLE_DIR = '../pickle'\n",
    "FIGURE_DIR = '../figures'\n",
    "\n",
    "HYPERPARAMS = {\n",
    "    'length': 4,\n",
    "    'alpha': [0, 0, 0.1, 1],\n",
    "    'eta': [0.1, 0.01, 0.01, 0.01],\n",
    "    'epochs': 40\n",
    "}"
   ]
  },
  {
   "cell_type": "markdown",
   "metadata": {},
   "source": [
    "# Load dataset"
   ]
  },
  {
   "cell_type": "code",
   "execution_count": null,
   "metadata": {},
   "outputs": [],
   "source": [
    "dataset = Cifar(DATA_DIR)"
   ]
  },
  {
   "cell_type": "markdown",
   "metadata": {},
   "source": [
    "# Split into training, validation and test set"
   ]
  },
  {
   "cell_type": "code",
   "execution_count": null,
   "metadata": {},
   "outputs": [],
   "source": [
    "data_train, data_val, data_test = \\\n",
    "    dataset.train_val_test_split(n_train=10000, n_val=10000)"
   ]
  },
  {
   "cell_type": "markdown",
   "metadata": {},
   "source": [
    "# Compare analytical and numerical gradient"
   ]
  },
  {
   "cell_type": "code",
   "execution_count": null,
   "metadata": {},
   "outputs": [],
   "source": [
    "params = [(1, 20, 0), (1, 20, 0.5), (20, 20, 0), (20, 20, 0.5)]\n",
    "\n",
    "compare_gradients(SingleLayerFullyConnected, data_train, params)"
   ]
  },
  {
   "cell_type": "markdown",
   "metadata": {},
   "source": [
    "# Train networks"
   ]
  },
  {
   "cell_type": "code",
   "execution_count": null,
   "metadata": {},
   "outputs": [],
   "source": [
    "train_networks(data_train, data_val,\n",
    "               HYPERPARAMS,\n",
    "               pickle_dir=PICKLE_DIR,\n",
    "               postfix='crossentropy')"
   ]
  },
  {
   "cell_type": "code",
   "execution_count": null,
   "metadata": {},
   "outputs": [],
   "source": [
    "histories = load_histories(HYPERPARAMS,\n",
    "                           pickle_dir=PICKLE_DIR,\n",
    "                           postfix='crossentropy')"
   ]
  },
  {
   "cell_type": "markdown",
   "metadata": {},
   "source": [
    "# Visualize learning curves"
   ]
  },
  {
   "cell_type": "code",
   "execution_count": null,
   "metadata": {},
   "outputs": [],
   "source": [
    "visualize_learning_curves(histories)\n",
    "\n",
    "plt.savefig(os.path.join(FIGURE_DIR, 'learning_curves_crossentropy.svg'))"
   ]
  },
  {
   "cell_type": "markdown",
   "metadata": {},
   "source": [
    "# Visualize network performance"
   ]
  },
  {
   "cell_type": "code",
   "execution_count": null,
   "metadata": {},
   "outputs": [],
   "source": [
    "visualize_performance(histories, data_test)\n",
    "\n",
    "plt.savefig(os.path.join(FIGURE_DIR, 'confusion_matrices_crossentropy.svg'))"
   ]
  },
  {
   "cell_type": "markdown",
   "metadata": {},
   "source": [
    "# Visualize weigths"
   ]
  },
  {
   "cell_type": "code",
   "execution_count": null,
   "metadata": {},
   "outputs": [],
   "source": [
    "visualize_weights(histories, data_train)\n",
    "\n",
    "plt.savefig(os.path.join(FIGURE_DIR, 'weights_crossentropy.svg'))"
   ]
  }
 ],
 "metadata": {
  "git": {
   "suppress_outputs": true
  },
  "kernelspec": {
   "display_name": "Python 3",
   "language": "python",
   "name": "python3"
  },
  "language_info": {
   "codemirror_mode": {
    "name": "ipython",
    "version": 3
   },
   "file_extension": ".py",
   "mimetype": "text/x-python",
   "name": "python",
   "nbconvert_exporter": "python",
   "pygments_lexer": "ipython3",
   "version": "3.6.8"
  }
 },
 "nbformat": 4,
 "nbformat_minor": 2
}