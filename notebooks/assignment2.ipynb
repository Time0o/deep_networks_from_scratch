{
 "cells": [
  {
   "cell_type": "code",
   "execution_count": null,
   "metadata": {},
   "outputs": [],
   "source": [
    "import os\n",
    "import sys; sys.path.append('../lib')\n",
    "from functools import partial\n",
    "\n",
    "import matplotlib.pyplot as plt\n",
    "\n",
    "from assignment2 import *\n",
    "from data import Cifar\n",
    "from gradients import compare_gradients\n",
    "from networks import TrainHistory, TwoLayerFullyConnected\n",
    "from search import SearchParam, SearchResultSeries, search"
   ]
  },
  {
   "cell_type": "markdown",
   "metadata": {},
   "source": [
    "# Constants"
   ]
  },
  {
   "cell_type": "code",
   "execution_count": null,
   "metadata": {},
   "outputs": [],
   "source": [
    "DATA_DIR = '../data'\n",
    "PICKLE_DIR = '../pickle'\n",
    "FIGURE_DIR = '../figures'\n",
    "\n",
    "HIDDEN_NODES = 50"
   ]
  },
  {
   "cell_type": "markdown",
   "metadata": {},
   "source": [
    "# Load dataset"
   ]
  },
  {
   "cell_type": "code",
   "execution_count": null,
   "metadata": {},
   "outputs": [],
   "source": [
    "dataset = Cifar(DATA_DIR)"
   ]
  },
  {
   "cell_type": "markdown",
   "metadata": {},
   "source": [
    "# Split into training, validation and test set"
   ]
  },
  {
   "cell_type": "code",
   "execution_count": null,
   "metadata": {},
   "outputs": [],
   "source": [
    "data_train, data_val, data_test = dataset.train_val_test_split(\n",
    "    n_train=10000, n_val=10000, normalize='zscore')"
   ]
  },
  {
   "cell_type": "markdown",
   "metadata": {},
   "source": [
    "# Default network constructor"
   ]
  },
  {
   "cell_type": "code",
   "execution_count": null,
   "metadata": {},
   "outputs": [],
   "source": [
    "default_network = partial(\n",
    "    TwoLayerFullyConnected,\n",
    "    input_size=data_train.input_size,\n",
    "    hidden_nodes=HIDDEN_NODES,\n",
    "    num_classes=data_train.num_classes,\n",
    "    random_seed=0)"
   ]
  },
  {
   "cell_type": "markdown",
   "metadata": {},
   "source": [
    "# Compare analytical and numerical gradient"
   ]
  },
  {
   "cell_type": "code",
   "execution_count": null,
   "metadata": {},
   "outputs": [],
   "source": [
    "params = [(1, 20, 0), (1, 20, 0.5), (20, 20, 0), (20, 20, 0.5)]\n",
    "\n",
    "compare_gradients(\n",
    "    partial(TwoLayerFullyConnected,\n",
    "            hidden_nodes=HIDDEN_NODES),\n",
    "    data_train,\n",
    "    params)"
   ]
  },
  {
   "cell_type": "markdown",
   "metadata": {},
   "source": [
    "# Overfit on training data subset"
   ]
  },
  {
   "cell_type": "code",
   "execution_count": null,
   "metadata": {},
   "outputs": [],
   "source": [
    "network = default_network()\n",
    "\n",
    "history = network.train(data_train.subsample(n=100),\n",
    "                        data_val.subsample(n=100),\n",
    "                        n_batch=20,\n",
    "                        history_per_cycle=100,\n",
    "                        verbose=True)\n",
    "\n",
    "history.visualize()"
   ]
  },
  {
   "cell_type": "markdown",
   "metadata": {},
   "source": [
    "# Reproduce learning curves"
   ]
  },
  {
   "cell_type": "code",
   "execution_count": null,
   "metadata": {},
   "outputs": [],
   "source": [
    "network = default_network(alpha=0.01)\n",
    "\n",
    "history = network.train_cyclic(data_train, data_val, verbose=True)\n",
    "\n",
    "history.save(PICKLE_DIR, postfix='default_one_cycle')"
   ]
  },
  {
   "cell_type": "code",
   "execution_count": null,
   "metadata": {},
   "outputs": [],
   "source": [
    "history = TrainHistory.load(PICKLE_DIR, postfix='default_one_cycle')\n",
    "\n",
    "visualize_learning_curves(history)\n",
    "\n",
    "plt.savefig(os.path.join(FIGURE_DIR, 'curves_default_one_cycle.svg'))"
   ]
  },
  {
   "cell_type": "code",
   "execution_count": null,
   "metadata": {},
   "outputs": [],
   "source": [
    "network = default_network(alpha=0.01)\n",
    "\n",
    "history = network.train_cyclic(data_train,\n",
    "                               data_val,\n",
    "                               eta_ss=800,\n",
    "                               n_cycles=3,\n",
    "                               verbose=True)\n",
    "\n",
    "history.save(PICKLE_DIR, postfix='default_three_cycles')"
   ]
  },
  {
   "cell_type": "code",
   "execution_count": null,
   "metadata": {},
   "outputs": [],
   "source": [
    "history = TrainHistory.load(PICKLE_DIR, postfix='default_three_cycles')\n",
    "\n",
    "visualize_learning_curves(history)\n",
    "\n",
    "plt.savefig(os.path.join(FIGURE_DIR, 'curves_default_three_cycles.svg'))"
   ]
  },
  {
   "cell_type": "markdown",
   "metadata": {},
   "source": [
    "# Load more data"
   ]
  },
  {
   "cell_type": "code",
   "execution_count": null,
   "metadata": {},
   "outputs": [],
   "source": [
    "data_train, data_val, data_test = dataset.train_val_test_split(\n",
    "    n_val=5000, normalize='zscore')"
   ]
  },
  {
   "cell_type": "markdown",
   "metadata": {},
   "source": [
    "# Perform coarse search"
   ]
  },
  {
   "cell_type": "code",
   "execution_count": null,
   "metadata": {},
   "outputs": [],
   "source": [
    "n_samples = 20\n",
    "\n",
    "alpha = SearchParam('alpha', -5, -1, n_samples, scale='log')"
   ]
  },
  {
   "cell_type": "code",
   "execution_count": null,
   "metadata": {},
   "outputs": [],
   "source": [
    "def train_function(param_args):\n",
    "    network = default_network(alpha=param_args['alpha'])\n",
    "    \n",
    "    return network.train_cyclic(data_train,\n",
    "                                data_val,\n",
    "                                eta_ss=(2 * data_train.n // 100),\n",
    "                                n_cycles=2,\n",
    "                                verbose=True)\n",
    "\n",
    "search_results = search(data_train,\n",
    "                        data_val,\n",
    "                        params=[alpha],\n",
    "                        train_function=train_function,\n",
    "                        random_seed=0)\n",
    "\n",
    "search_results.save(PICKLE_DIR, postfix='coarse')"
   ]
  },
  {
   "cell_type": "code",
   "execution_count": null,
   "metadata": {},
   "outputs": [],
   "source": [
    "search_results = SearchResultSeries.load(PICKLE_DIR, postfix='coarse')"
   ]
  },
  {
   "cell_type": "code",
   "execution_count": null,
   "metadata": {},
   "outputs": [],
   "source": [
    "search_results.visualize(alpha)\n",
    "\n",
    "plt.savefig(os.path.join(FIGURE_DIR, 'search_coarse.svg'))"
   ]
  },
  {
   "cell_type": "code",
   "execution_count": null,
   "metadata": {},
   "outputs": [],
   "source": [
    "search_results.top(verbose=True)"
   ]
  },
  {
   "cell_type": "markdown",
   "metadata": {},
   "source": [
    "# Perform fine search"
   ]
  },
  {
   "cell_type": "code",
   "execution_count": null,
   "metadata": {},
   "outputs": [],
   "source": [
    "n_samples = 10\n",
    "\n",
    "alpha = SearchParam('alpha', -3.5, -2.5, n_samples, scale='log')"
   ]
  },
  {
   "cell_type": "code",
   "execution_count": null,
   "metadata": {},
   "outputs": [],
   "source": [
    "def train_function(param_args):\n",
    "    network = default_network(alpha=param_args['alpha'])\n",
    "    \n",
    "    return network.train_cyclic(data_train,\n",
    "                                data_val,\n",
    "                                eta_ss=(2 * data_train.n // 100),\n",
    "                                n_cycles=4,\n",
    "                                verbose=True)\n",
    "\n",
    "search_results = search(data_train,\n",
    "                        data_val,\n",
    "                        params=[alpha],\n",
    "                        train_function=train_function,\n",
    "                        random_seed=0)\n",
    "\n",
    "search_results.save(PICKLE_DIR, postfix='fine')"
   ]
  },
  {
   "cell_type": "code",
   "execution_count": null,
   "metadata": {},
   "outputs": [],
   "source": [
    "search_results = SearchResultSeries.load(PICKLE_DIR, postfix='fine')"
   ]
  },
  {
   "cell_type": "code",
   "execution_count": null,
   "metadata": {},
   "outputs": [],
   "source": [
    "search_results.visualize(alpha)\n",
    "\n",
    "plt.savefig(os.path.join(FIGURE_DIR, 'search_fine.svg'))"
   ]
  },
  {
   "cell_type": "code",
   "execution_count": null,
   "metadata": {},
   "outputs": [],
   "source": [
    "search_results.top(verbose=True)"
   ]
  },
  {
   "cell_type": "markdown",
   "metadata": {},
   "source": [
    "# Train on more data and evaluate on test set"
   ]
  },
  {
   "cell_type": "code",
   "execution_count": null,
   "metadata": {},
   "outputs": [],
   "source": [
    "data_train, data_val, data_test = dataset.train_val_test_split(\n",
    "    n_val=1000, normalize='zscore')"
   ]
  },
  {
   "cell_type": "code",
   "execution_count": null,
   "metadata": {},
   "outputs": [],
   "source": [
    "network = default_network(alpha=search_results.optimum()['alpha'])\n",
    "\n",
    "history = network.train_cyclic(data_train,\n",
    "                               data_val,\n",
    "                               eta_ss=(2 * data_train.n // 100),\n",
    "                               n_cycles=3,\n",
    "                               verbose=True)\n",
    "\n",
    "history.save(PICKLE_DIR, postfix='final_three_cycles')"
   ]
  },
  {
   "cell_type": "code",
   "execution_count": null,
   "metadata": {},
   "outputs": [],
   "source": [
    "history = TrainHistory.load(PICKLE_DIR, postfix='final_three_cycles')"
   ]
  },
  {
   "cell_type": "code",
   "execution_count": null,
   "metadata": {},
   "outputs": [],
   "source": [
    "visualize_learning_curves(history)\n",
    "\n",
    "plt.savefig(os.path.join(FIGURE_DIR, 'curves_final_three_cycles.svg'))"
   ]
  },
  {
   "cell_type": "code",
   "execution_count": null,
   "metadata": {},
   "outputs": [],
   "source": [
    "history.final_network.visualize_performance(data_test)\n",
    "\n",
    "plt.savefig(os.path.join(FIGURE_DIR, 'performance_final_three_cycles.svg'))"
   ]
  }
 ],
 "metadata": {
  "git": {
   "suppress_outputs": true
  },
  "kernelspec": {
   "display_name": "Python 3",
   "language": "python",
   "name": "python3"
  },
  "language_info": {
   "codemirror_mode": {
    "name": "ipython",
    "version": 3
   },
   "file_extension": ".py",
   "mimetype": "text/x-python",
   "name": "python",
   "nbconvert_exporter": "python",
   "pygments_lexer": "ipython3",
   "version": "3.6.8"
  }
 },
 "nbformat": 4,
 "nbformat_minor": 2
}