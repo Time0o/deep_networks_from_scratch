{
 "cells": [
  {
   "cell_type": "code",
   "execution_count": null,
   "metadata": {},
   "outputs": [],
   "source": [
    "import os\n",
    "import sys; sys.path.append('../lib')\n",
    "from functools import partial\n",
    "\n",
    "import matplotlib.pyplot as plt\n",
    "\n",
    "from assignment2 import visualize_learning_curves\n",
    "from assignment3 import *\n",
    "from data import Cifar\n",
    "from gradients import compare_gradients\n",
    "from history import TrainHistory\n",
    "from multi_layer_fully_connected import MultiLayerFullyConnected\n",
    "from search import SearchParam, SearchResultSeries, search"
   ]
  },
  {
   "cell_type": "markdown",
   "metadata": {},
   "source": [
    "# Constants"
   ]
  },
  {
   "cell_type": "code",
   "execution_count": null,
   "metadata": {},
   "outputs": [],
   "source": [
    "DATA_DIR = '../data'\n",
    "PICKLE_DIR = '../pickle'\n",
    "FIGURE_DIR = '../figures'"
   ]
  },
  {
   "cell_type": "markdown",
   "metadata": {},
   "source": [
    "# Load dataset"
   ]
  },
  {
   "cell_type": "code",
   "execution_count": null,
   "metadata": {},
   "outputs": [],
   "source": [
    "dataset = Cifar(DATA_DIR)"
   ]
  },
  {
   "cell_type": "markdown",
   "metadata": {},
   "source": [
    "# Split into training, validation and test set"
   ]
  },
  {
   "cell_type": "code",
   "execution_count": null,
   "metadata": {},
   "outputs": [],
   "source": [
    "data_train, data_val, data_test = \\\n",
    "    dataset.train_val_test_split(n_val=5000, normalize='zscore')"
   ]
  },
  {
   "cell_type": "markdown",
   "metadata": {},
   "source": [
    "# Train three layer network"
   ]
  },
  {
   "cell_type": "code",
   "execution_count": null,
   "metadata": {},
   "outputs": [],
   "source": [
    "network_three_layers = MultiLayerFullyConnected(\n",
    "    input_size=data_train.input_size,\n",
    "    hidden_nodes=[50, 50],\n",
    "    num_classes=data_train.num_classes,\n",
    "    alpha=0.005,\n",
    "    random_seed=0)\n",
    "\n",
    "history_three_layers = network_three_layers.train_cyclic(\n",
    "    data_train,\n",
    "    data_val,\n",
    "    eta_ss=2250,\n",
    "    n_cycles=2,\n",
    "    shuffle=True,\n",
    "    verbose=True)\n",
    "\n",
    "history_three_layers.save(PICKLE_DIR, postfix='three_layers')"
   ]
  },
  {
   "cell_type": "code",
   "execution_count": null,
   "metadata": {},
   "outputs": [],
   "source": [
    "history_three_layers = TrainHistory.load(PICKLE_DIR, postfix='three_layers')\n",
    "\n",
    "visualize_learning_curves(history_three_layers)\n",
    "\n",
    "plt.savefig(os.path.join(FIGURE_DIR, 'learning_curves_three_layers.svg'))"
   ]
  },
  {
   "cell_type": "markdown",
   "metadata": {},
   "source": [
    "# Train nine layer network"
   ]
  },
  {
   "cell_type": "code",
   "execution_count": null,
   "metadata": {},
   "outputs": [],
   "source": [
    "network_nine_layers = MultiLayerFullyConnected(\n",
    "    input_size=data_train.input_size,\n",
    "    hidden_nodes=[50, 30, 20, 20, 10, 10, 10, 10],\n",
    "    num_classes=data_train.num_classes,\n",
    "    alpha=0.005,\n",
    "    random_seed=0)\n",
    "\n",
    "history_nine_layers = network_nine_layers.train_cyclic(\n",
    "    data_train,\n",
    "    data_val,\n",
    "    eta_ss=2250,\n",
    "    n_cycles=2,\n",
    "    verbose=True)\n",
    "\n",
    "history_nine_layers.save(PICKLE_DIR, postfix='nine_layers')"
   ]
  },
  {
   "cell_type": "code",
   "execution_count": null,
   "metadata": {},
   "outputs": [],
   "source": [
    "history_nine_layers = TrainHistory.load(PICKLE_DIR, postfix='nine_layers')\n",
    "\n",
    "visualize_learning_curves(history_nine_layers)\n",
    "\n",
    "plt.savefig(os.path.join(FIGURE_DIR, 'learning_curves_nine_layers.svg'))"
   ]
  },
  {
   "cell_type": "markdown",
   "metadata": {},
   "source": [
    "# Compare gradients with batchnorm"
   ]
  },
  {
   "cell_type": "code",
   "execution_count": null,
   "metadata": {
    "scrolled": true
   },
   "outputs": [],
   "source": [
    "for hidden_nodes in [[50], [50, 50]]:\n",
    "    hidden_nodes_str = 'x'.join(map(str, hidden_nodes))\n",
    "\n",
    "    print((hidden_nodes_str + \" hidden nodes \").ljust(70, '=') + '\\n')\n",
    "\n",
    "    params = [(20, 10, 0), (20, 10, 0.5)]\n",
    "\n",
    "    compare_gradients(\n",
    "        partial(MultiLayerFullyConnected,\n",
    "                hidden_nodes=hidden_nodes,\n",
    "                batchnorm=True),\n",
    "        data_train,\n",
    "        params)"
   ]
  },
  {
   "cell_type": "markdown",
   "metadata": {},
   "source": [
    "# Train three layer network with batchnorm"
   ]
  },
  {
   "cell_type": "code",
   "execution_count": null,
   "metadata": {},
   "outputs": [],
   "source": [
    "network_three_layers_bn = MultiLayerFullyConnected(\n",
    "    input_size=data_train.input_size,\n",
    "    hidden_nodes=[50, 50],\n",
    "    num_classes=data_train.num_classes,\n",
    "    alpha=0.005,\n",
    "    batchnorm=True,\n",
    "    random_seed=0)\n",
    "\n",
    "history_three_layers_bn = network_three_layers_bn.train_cyclic(\n",
    "    data_train,\n",
    "    data_val,\n",
    "    eta_ss=2250,\n",
    "    n_cycles=2,\n",
    "    shuffle=True,\n",
    "    verbose=True)\n",
    "\n",
    "history_three_layers_bn.save(PICKLE_DIR, postfix='three_layers_bn')"
   ]
  },
  {
   "cell_type": "code",
   "execution_count": null,
   "metadata": {},
   "outputs": [],
   "source": [
    "history_three_layers_bn = TrainHistory.load(PICKLE_DIR, postfix='three_layers_bn')\n",
    "\n",
    "visualize_learning_curves(history_three_layers_bn)\n",
    "\n",
    "plt.savefig(os.path.join(FIGURE_DIR, 'learning_curves_three_layers_bn.svg'))"
   ]
  },
  {
   "cell_type": "markdown",
   "metadata": {},
   "source": [
    "# Coarse search"
   ]
  },
  {
   "cell_type": "code",
   "execution_count": null,
   "metadata": {},
   "outputs": [],
   "source": [
    "def train_function(param_args):\n",
    "    network_three_layers_bn = MultiLayerFullyConnected(\n",
    "        input_size=data_train.input_size,\n",
    "        hidden_nodes=[50, 50],\n",
    "        num_classes=data_train.num_classes,\n",
    "        alpha=param_args['alpha'],\n",
    "        batchnorm=True,\n",
    "        random_seed=0)\n",
    "\n",
    "    return network_three_layers_bn.train_cyclic(\n",
    "        data_train,\n",
    "        data_val,\n",
    "        eta_ss=2250,\n",
    "        n_cycles=2,\n",
    "        shuffle=True,\n",
    "        verbose=True)"
   ]
  },
  {
   "cell_type": "code",
   "execution_count": null,
   "metadata": {},
   "outputs": [],
   "source": [
    "n_samples = 10\n",
    "\n",
    "alpha = SearchParam('alpha', -5, -1, n_samples, scale='log')"
   ]
  },
  {
   "cell_type": "code",
   "execution_count": null,
   "metadata": {},
   "outputs": [],
   "source": [
    "search_results = search(data_train,\n",
    "                        data_val,\n",
    "                        params=[alpha],\n",
    "                        train_function=train_function,\n",
    "                        random_seed=0)\n",
    "\n",
    "search_results.save(PICKLE_DIR, postfix='three_layers_coarse')"
   ]
  },
  {
   "cell_type": "code",
   "execution_count": null,
   "metadata": {},
   "outputs": [],
   "source": [
    "search_results = SearchResultSeries.load(PICKLE_DIR, postfix='three_layers_coarse')\n",
    "\n",
    "search_results.visualize(alpha)\n",
    "\n",
    "plt.savefig(os.path.join(FIGURE_DIR, 'search_three_layers_coarse.svg'))"
   ]
  },
  {
   "cell_type": "markdown",
   "metadata": {},
   "source": [
    "# Fine search"
   ]
  },
  {
   "cell_type": "code",
   "execution_count": null,
   "metadata": {},
   "outputs": [],
   "source": [
    "n_samples = 10\n",
    "\n",
    "alpha = SearchParam('alpha', -3, -2, n_samples, scale='log')"
   ]
  },
  {
   "cell_type": "code",
   "execution_count": null,
   "metadata": {},
   "outputs": [],
   "source": [
    "search_results = search(data_train,\n",
    "                        data_val,\n",
    "                        params=[alpha],\n",
    "                        train_function=train_function,\n",
    "                        random_seed=0)\n",
    "\n",
    "search_results.save(PICKLE_DIR, postfix='three_layers_fine')"
   ]
  },
  {
   "cell_type": "code",
   "execution_count": null,
   "metadata": {},
   "outputs": [],
   "source": [
    "search_results = SearchResultSeries.load(PICKLE_DIR, postfix='three_layers_fine')"
   ]
  },
  {
   "cell_type": "code",
   "execution_count": null,
   "metadata": {},
   "outputs": [],
   "source": [
    "search_results.visualize(alpha)\n",
    "\n",
    "plt.savefig(os.path.join(FIGURE_DIR, 'search_three_layers_.svg'))"
   ]
  },
  {
   "cell_type": "code",
   "execution_count": null,
   "metadata": {},
   "outputs": [],
   "source": [
    "alpha_top = search_results.top(verbose=True)"
   ]
  },
  {
   "cell_type": "markdown",
   "metadata": {},
   "source": [
    "# Train final three layer network"
   ]
  },
  {
   "cell_type": "code",
   "execution_count": null,
   "metadata": {},
   "outputs": [],
   "source": [
    "network_three_layers_final = MultiLayerFullyConnected(\n",
    "    input_size=data_train.input_size,\n",
    "    hidden_nodes=[50, 50],\n",
    "    num_classes=data_train.num_classes,\n",
    "    alpha=alpha_top[0][0]['alpha'],\n",
    "    batchnorm=True,\n",
    "    random_seed=0)\n",
    "\n",
    "history_three_layers_final = network_three_layers_final.train_cyclic(\n",
    "    data_train,\n",
    "    data_val,\n",
    "    eta_ss=2250,\n",
    "    n_cycles=3,\n",
    "    shuffle=True,\n",
    "    verbose=True)\n",
    "\n",
    "history_three_layers_final.save(PICKLE_DIR, postfix='three_layers_final')"
   ]
  },
  {
   "cell_type": "code",
   "execution_count": null,
   "metadata": {},
   "outputs": [],
   "source": [
    "history_three_layers_final = TrainHistory.load(PICKLE_DIR, postfix='three_layers_final')\n",
    "\n",
    "history_three_layers_final.final_network.visualize_performance(data_test)\n",
    "\n",
    "plt.savefig(os.path.join(FIGURE_DIR, 'performance_three_layers_final.svg'))"
   ]
  },
  {
   "cell_type": "markdown",
   "metadata": {},
   "source": [
    "# Test sensitivity to initialization"
   ]
  },
  {
   "cell_type": "code",
   "execution_count": null,
   "metadata": {},
   "outputs": [],
   "source": [
    "sigmas = [1e-4, 1e-3, 1e-1]\n",
    "\n",
    "def train_function(sigma, bn):\n",
    "    network = MultiLayerFullyConnected(\n",
    "        input_size=data_train.input_size,\n",
    "        hidden_nodes=[50, 50],\n",
    "        num_classes=data_train.num_classes,\n",
    "        alpha=0.005,\n",
    "        weight_init='standard',\n",
    "        weight_std=sigma,\n",
    "        batchnorm=bn,\n",
    "        random_seed=0)\n",
    "\n",
    "    return network.train_cyclic(\n",
    "        data_train,\n",
    "        data_val,\n",
    "        eta_ss=900,\n",
    "        n_cycles=2,\n",
    "        shuffle=True,\n",
    "        verbose=True)"
   ]
  },
  {
   "cell_type": "code",
   "execution_count": null,
   "metadata": {},
   "outputs": [],
   "source": [
    "train_batchnorm_stabilization(train_function, sigmas, pickle_dir=PICKLE_DIR)"
   ]
  },
  {
   "cell_type": "code",
   "execution_count": null,
   "metadata": {},
   "outputs": [],
   "source": [
    "visualize_batchnorm_stabilization(sigmas, pickle_dir=PICKLE_DIR)\n",
    "\n",
    "plt.savefig(os.path.join(FIGURE_DIR, 'three_layer_stabilization.svg'))"
   ]
  },
  {
   "cell_type": "markdown",
   "metadata": {},
   "source": [
    "# Train nine layer network with batchnorm"
   ]
  },
  {
   "cell_type": "code",
   "execution_count": null,
   "metadata": {},
   "outputs": [],
   "source": [
    "network_nine_layers_bn = MultiLayerFullyConnected(\n",
    "    input_size=data_train.input_size,\n",
    "    hidden_nodes=[50, 30, 20, 20, 10, 10, 10, 10],\n",
    "    num_classes=data_train.num_classes,\n",
    "    alpha=0.005,\n",
    "    batchnorm=True,\n",
    "    random_seed=0)\n",
    "\n",
    "history_nine_layers_bn = network_nine_layers_bn.train_cyclic(\n",
    "    data_train,\n",
    "    data_val,\n",
    "    eta_ss=2250,\n",
    "    n_cycles=2,\n",
    "    verbose=True)\n",
    "\n",
    "history_nine_layers_bn.save(PICKLE_DIR, postfix='nine_layers_bn')"
   ]
  },
  {
   "cell_type": "code",
   "execution_count": null,
   "metadata": {},
   "outputs": [],
   "source": [
    "history_nine_layers_bn = TrainHistory.load(PICKLE_DIR, postfix='nine_layers_bn')\n",
    "\n",
    "visualize_learning_curves(history_nine_layers_bn)\n",
    "\n",
    "plt.savefig(os.path.join(FIGURE_DIR, 'learning_curves_nine_layers_bn.svg'))"
   ]
  },
  {
   "cell_type": "markdown",
   "metadata": {},
   "source": [
    "# Performance Optimization"
   ]
  },
  {
   "cell_type": "code",
   "execution_count": null,
   "metadata": {},
   "outputs": [],
   "source": [
    "history_three_layers_final = TrainHistory.load(PICKLE_DIR, postfix='three_layers_final')\n",
    "acc = history_three_layers_final.final_network.accuracy(data_val)\n",
    "\n",
    "print(\"reference: {}\".format(acc))"
   ]
  },
  {
   "cell_type": "code",
   "execution_count": null,
   "metadata": {},
   "outputs": [],
   "source": [
    "search_results = SearchResultSeries.load(PICKLE_DIR, postfix='three_layers_fine')\n",
    "alpha_top = search_results.top()[0][0]['alpha']\n",
    "\n",
    "network_proto = partial(MultiLayerFullyConnected,\n",
    "                        input_size=data_train.input_size,\n",
    "                        num_classes=data_train.num_classes,\n",
    "                        alpha=alpha_top,\n",
    "                        batchnorm=True,\n",
    "                        random_seed=0)\n",
    "\n",
    "hidden_nodes_proto = [50, 50]\n",
    "\n",
    "def default_train(network, n_cycles=2):\n",
    "    return network.train_cyclic(data_train,\n",
    "                                data_val,\n",
    "                                eta_ss=2250,\n",
    "                                n_cycles=n_cycles,\n",
    "                                shuffle=True,\n",
    "                                verbose=True)"
   ]
  },
  {
   "cell_type": "markdown",
   "metadata": {},
   "source": [
    "## Increase the number of hidden layers"
   ]
  },
  {
   "cell_type": "code",
   "execution_count": null,
   "metadata": {},
   "outputs": [],
   "source": [
    "hidden_nodes_layer_four = [30, 40, 50, 60, 70]"
   ]
  },
  {
   "cell_type": "code",
   "execution_count": null,
   "metadata": {},
   "outputs": [],
   "source": [
    "for hn in hidden_nodes_layer_four:\n",
    "    history = default_train(\n",
    "        network_proto(hidden_nodes=hidden_nodes_proto + [hn]))\n",
    "    \n",
    "    history.save(PICKLE_DIR, postfix='four_layers_{}'.format(hn))"
   ]
  },
  {
   "cell_type": "code",
   "execution_count": null,
   "metadata": {},
   "outputs": [],
   "source": [
    "for hn in hidden_nodes_layer_four:\n",
    "    history = TrainHistory.load(PICKLE_DIR, postfix='four_layers_{}'.format(hn))\n",
    "    acc = history.final_network.accuracy(data_val)\n",
    "\n",
    "    print(\"{} hidden nodes => {}\".format(hn, acc))"
   ]
  },
  {
   "cell_type": "markdown",
   "metadata": {},
   "source": [
    "## More hidden nodes"
   ]
  },
  {
   "cell_type": "code",
   "execution_count": null,
   "metadata": {},
   "outputs": [],
   "source": [
    "num_hidden_nodes = [100, 200, 300, 400, 500]"
   ]
  },
  {
   "cell_type": "code",
   "execution_count": null,
   "metadata": {},
   "outputs": [],
   "source": [
    "for hn in num_hidden_nodes:\n",
    "    history = default_train(\n",
    "        network_proto(hidden_nodes=[hn] * len(hidden_nodes_proto)))\n",
    "    \n",
    "    history.save(PICKLE_DIR, postfix='three_layers_wide_{}'.format(hn))"
   ]
  },
  {
   "cell_type": "code",
   "execution_count": null,
   "metadata": {},
   "outputs": [],
   "source": [
    "for hn in num_hidden_nodes:\n",
    "    history = TrainHistory.load(PICKLE_DIR, postfix='three_layers_wide_{}'.format(hn))\n",
    "    acc = history.final_network.accuracy(data_val)\n",
    "\n",
    "    print(\"{} hidden nodes => {}\".format(hn, acc))"
   ]
  },
  {
   "cell_type": "markdown",
   "metadata": {},
   "source": [
    "## Dropout"
   ]
  },
  {
   "cell_type": "code",
   "execution_count": null,
   "metadata": {},
   "outputs": [],
   "source": [
    "history_dropout = default_train(\n",
    "    network_proto(hidden_nodes=[300, 300], dropout=0.5))\n",
    "\n",
    "history_dropout.save(PICKLE_DIR, postfix='three_layers_wide_dropout')"
   ]
  },
  {
   "cell_type": "code",
   "execution_count": null,
   "metadata": {},
   "outputs": [],
   "source": [
    "history = TrainHistory.load(PICKLE_DIR, postfix='three_layers_wide_dropout')\n",
    "acc = history.final_network.accuracy(data_val)\n",
    "\n",
    "print(\"with dropout => {}\".format(acc))"
   ]
  },
  {
   "cell_type": "markdown",
   "metadata": {},
   "source": [
    "## Data augmentation"
   ]
  },
  {
   "cell_type": "code",
   "execution_count": null,
   "metadata": {},
   "outputs": [],
   "source": [
    "data_train_aug = data_train.augment_orientation()"
   ]
  },
  {
   "cell_type": "code",
   "execution_count": null,
   "metadata": {},
   "outputs": [],
   "source": [
    "history_augment = default_train(\n",
    "    network_proto(hidden_nodes=[300, 300]), n_cycles=6)\n",
    "\n",
    "history_augment.save(PICKLE_DIR, postfix='three_layers_wide_augment')"
   ]
  },
  {
   "cell_type": "code",
   "execution_count": null,
   "metadata": {},
   "outputs": [],
   "source": [
    "history_augment = TrainHistory.load(PICKLE_DIR, postfix='three_layers_wide_augment')"
   ]
  },
  {
   "cell_type": "code",
   "execution_count": null,
   "metadata": {},
   "outputs": [],
   "source": [
    "visualize_learning_curves(history_augment)\n",
    "\n",
    "plt.savefig(os.path.join(FIGURE_DIR, 'learning_curves_augment.svg'))"
   ]
  },
  {
   "cell_type": "code",
   "execution_count": null,
   "metadata": {},
   "outputs": [],
   "source": [
    "history_augment.final_network.visualize_performance(data_test)\n",
    "\n",
    "plt.savefig(os.path.join(FIGURE_DIR, 'performance_augment.svg'))"
   ]
  }
 ],
 "metadata": {
  "kernelspec": {
   "display_name": "Python 3",
   "language": "python",
   "name": "python3"
  },
  "language_info": {
   "codemirror_mode": {
    "name": "ipython",
    "version": 3
   },
   "file_extension": ".py",
   "mimetype": "text/x-python",
   "name": "python",
   "nbconvert_exporter": "python",
   "pygments_lexer": "ipython3",
   "version": "3.6.8"
  }
 },
 "nbformat": 4,
 "nbformat_minor": 2
}
