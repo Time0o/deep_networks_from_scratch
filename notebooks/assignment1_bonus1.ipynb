{
 "cells": [
  {
   "cell_type": "code",
   "execution_count": null,
   "metadata": {},
   "outputs": [],
   "source": [
    "import math\n",
    "import os\n",
    "import sys; sys.path.append('../lib')\n",
    "\n",
    "import matplotlib.pyplot as plt\n",
    "import numpy as np\n",
    "\n",
    "from data import Cifar\n",
    "from networks import EnsembleClassifier, \\\n",
    "                     SingleLayerFullyConnected, \\\n",
    "                     TrainHistory"
   ]
  },
  {
   "cell_type": "code",
   "execution_count": null,
   "metadata": {},
   "outputs": [],
   "source": [
    "DATA_DIR = '../data'\n",
    "PICKLE_DIR = '../pickle'\n",
    "FIGURE_DIR = '../figures'\n",
    "\n",
    "HYPERPARAMS = {\n",
    "    'alpha_low': 0,\n",
    "    'alpha_high': 0.05,\n",
    "    'eta': 0.01,\n",
    "    'eta_decay_factor': 0.9,\n",
    "    'epochs': 40,\n",
    "    'dead_epochs_max': 5\n",
    "}"
   ]
  },
  {
   "cell_type": "markdown",
   "metadata": {},
   "source": [
    "# Load dataset"
   ]
  },
  {
   "cell_type": "code",
   "execution_count": null,
   "metadata": {},
   "outputs": [],
   "source": [
    "dataset = Cifar(DATA_DIR)"
   ]
  },
  {
   "cell_type": "markdown",
   "metadata": {},
   "source": [
    "# Use all available training data"
   ]
  },
  {
   "cell_type": "code",
   "execution_count": null,
   "metadata": {},
   "outputs": [],
   "source": [
    "data_train_full, data_val_full, data_test_full = \\\n",
    "    dataset.train_val_test_split(n_val=1000)"
   ]
  },
  {
   "cell_type": "code",
   "execution_count": null,
   "metadata": {},
   "outputs": [],
   "source": [
    "network = SingleLayerFullyConnected(\n",
    "    input_size=data_train_full.input_size,\n",
    "    num_classes=data_train_full.num_classes,\n",
    "    random_seed=0)\n",
    "\n",
    "history = network.train(data_train_full,\n",
    "                        data_val_full,\n",
    "                        eta=HYPERPARAMS['eta'],\n",
    "                        n_epochs=HYPERPARAMS['epochs'],\n",
    "                        verbose=True)\n",
    "\n",
    "history.save(PICKLE_DIR, postfix='full')"
   ]
  },
  {
   "cell_type": "code",
   "execution_count": null,
   "metadata": {},
   "outputs": [],
   "source": [
    "history = TrainHistory.load(PICKLE_DIR, postfix='full')"
   ]
  },
  {
   "cell_type": "code",
   "execution_count": null,
   "metadata": {},
   "outputs": [],
   "source": [
    "history.visualize()\n",
    "\n",
    "plt.savefig(os.path.join(FIGURE_DIR, 'learning_curves_full.svg'))"
   ]
  },
  {
   "cell_type": "code",
   "execution_count": null,
   "metadata": {},
   "outputs": [],
   "source": [
    "history.final_network.visualize_performance(data_val_full)\n",
    "\n",
    "plt.savefig(os.path.join(FIGURE_DIR, 'confusion_matrix_full.svg'))"
   ]
  },
  {
   "cell_type": "markdown",
   "metadata": {},
   "source": [
    "# Early stopping"
   ]
  },
  {
   "cell_type": "code",
   "execution_count": null,
   "metadata": {},
   "outputs": [],
   "source": [
    "network = SingleLayerFullyConnected(\n",
    "    input_size=data_train_full.input_size,\n",
    "    num_classes=data_train_full.num_classes,\n",
    "    random_seed=0)\n",
    "\n",
    "history = network.train(\n",
    "    data_train_full,\n",
    "    data_val_full,\n",
    "    eta=HYPERPARAMS['eta'],\n",
    "    n_epochs=(4 * HYPERPARAMS['epochs']),\n",
    "    n_dead_epochs_max=HYPERPARAMS['dead_epochs_max'],\n",
    "    stop_early=True,\n",
    "    stop_early_find_best_params=True,\n",
    "    verbose=True)\n",
    "\n",
    "history.save(PICKLE_DIR, postfix='stop_early')"
   ]
  },
  {
   "cell_type": "code",
   "execution_count": null,
   "metadata": {},
   "outputs": [],
   "source": [
    "history = TrainHistory.load(PICKLE_DIR, postfix='stop_early')"
   ]
  },
  {
   "cell_type": "code",
   "execution_count": null,
   "metadata": {},
   "outputs": [],
   "source": [
    "history.visualize()\n",
    "\n",
    "plt.savefig(os.path.join(FIGURE_DIR, 'learning_curves_stop_early.svg'))"
   ]
  },
  {
   "cell_type": "code",
   "execution_count": null,
   "metadata": {},
   "outputs": [],
   "source": [
    "history.final_network.visualize_performance(data_val_full)\n",
    "\n",
    "plt.savefig(os.path.join(FIGURE_DIR, 'confusion_matrix_stop_early.svg'))"
   ]
  },
  {
   "cell_type": "markdown",
   "metadata": {},
   "source": [
    "# Grid search"
   ]
  },
  {
   "cell_type": "markdown",
   "metadata": {},
   "source": [
    "Skipped because it would take forever on my machine"
   ]
  },
  {
   "cell_type": "markdown",
   "metadata": {},
   "source": [
    "# Decay learning rate"
   ]
  },
  {
   "cell_type": "markdown",
   "metadata": {},
   "source": [
    "Only really makes sense if we train for more epochs which is again not feasible"
   ]
  },
  {
   "cell_type": "markdown",
   "metadata": {},
   "source": [
    "# Xavier initialization"
   ]
  },
  {
   "cell_type": "markdown",
   "metadata": {},
   "source": [
    "Does not really make any sense for single layer networks"
   ]
  },
  {
   "cell_type": "markdown",
   "metadata": {},
   "source": [
    "# Training data augmentation"
   ]
  },
  {
   "cell_type": "code",
   "execution_count": null,
   "metadata": {},
   "outputs": [],
   "source": [
    "data_sub = data_train_full.batch(0, 100)\n",
    "data_sub_aug = data_sub.augment()"
   ]
  },
  {
   "cell_type": "code",
   "execution_count": null,
   "metadata": {},
   "outputs": [],
   "source": [
    "data_sub.preview(h=5, w=5)\n",
    "\n",
    "plt.savefig(os.path.join(FIGURE_DIR, 'data_unaugmented.svg'))"
   ]
  },
  {
   "cell_type": "code",
   "execution_count": null,
   "metadata": {
    "scrolled": false
   },
   "outputs": [],
   "source": [
    "data_sub_aug.preview(h=5, w=5)\n",
    "\n",
    "plt.savefig(os.path.join(FIGURE_DIR, 'data_augmented.svg'))"
   ]
  },
  {
   "cell_type": "code",
   "execution_count": null,
   "metadata": {},
   "outputs": [],
   "source": [
    "aug = data_train_full.augment(verbose=True)\n",
    "data_train_aug = data_train_full.join(aug)"
   ]
  },
  {
   "cell_type": "code",
   "execution_count": null,
   "metadata": {},
   "outputs": [],
   "source": [
    "network = SingleLayerFullyConnected(\n",
    "    input_size=data_train_full.input_size,\n",
    "    num_classes=data_train_full.num_classes,\n",
    "    random_seed=0)\n",
    "\n",
    "history = network.train(\n",
    "    data_train_aug,\n",
    "    data_val_full,\n",
    "    eta=HYPERPARAMS['eta'],\n",
    "    n_epochs=HYPERPARAMS['epochs'],\n",
    "    n_dead_epochs_max=HYPERPARAMS['dead_epochs_max'],\n",
    "    stop_early=True,\n",
    "    stop_early_find_best_params=True,\n",
    "    verbose=True)\n",
    "\n",
    "history.save(PICKLE_DIR, postfix='augment')"
   ]
  },
  {
   "cell_type": "code",
   "execution_count": null,
   "metadata": {},
   "outputs": [],
   "source": [
    "history = TrainHistory.load(PICKLE_DIR, postfix='augment')"
   ]
  },
  {
   "cell_type": "code",
   "execution_count": null,
   "metadata": {},
   "outputs": [],
   "source": [
    "history.visualize()\n",
    "\n",
    "plt.savefig(os.path.join(FIGURE_DIR, 'learning_curves_augment.svg'))"
   ]
  },
  {
   "cell_type": "code",
   "execution_count": null,
   "metadata": {},
   "outputs": [],
   "source": [
    "history.final_network.visualize_performance(data_val_full)\n",
    "\n",
    "plt.savefig(os.path.join(FIGURE_DIR, 'confusion_matrix_augment.svg'))"
   ]
  },
  {
   "cell_type": "markdown",
   "metadata": {},
   "source": [
    "# Shuffle training data"
   ]
  },
  {
   "cell_type": "code",
   "execution_count": null,
   "metadata": {},
   "outputs": [],
   "source": [
    "network = SingleLayerFullyConnected(\n",
    "    input_size=data_train_full.input_size,\n",
    "    num_classes=data_train_full.num_classes,\n",
    "    random_seed=0)\n",
    "\n",
    "history = network.train(\n",
    "    data_train_full,\n",
    "    data_val_full,\n",
    "    eta=HYPERPARAMS['eta'],\n",
    "    n_epochs=HYPERPARAMS['epochs'],\n",
    "    n_dead_epochs_max=math.inf,\n",
    "    shuffle=True,\n",
    "    stop_early=True,\n",
    "    stop_early_find_best_params=True,\n",
    "    verbose=True)\n",
    "\n",
    "history.save(PICKLE_DIR, postfix='shuffle')"
   ]
  },
  {
   "cell_type": "code",
   "execution_count": null,
   "metadata": {},
   "outputs": [],
   "source": [
    "history = TrainHistory.load(PICKLE_DIR, postfix='shuffle')"
   ]
  },
  {
   "cell_type": "code",
   "execution_count": null,
   "metadata": {},
   "outputs": [],
   "source": [
    "history.visualize()\n",
    "\n",
    "plt.savefig(os.path.join(FIGURE_DIR, 'learning_curves_shuffle.svg'))"
   ]
  },
  {
   "cell_type": "code",
   "execution_count": null,
   "metadata": {},
   "outputs": [],
   "source": [
    "history.final_network.visualize_performance(data_val_full)\n",
    "\n",
    "plt.savefig(os.path.join(FIGURE_DIR, 'confusion_matrix_shuffle.svg'))"
   ]
  },
  {
   "cell_type": "markdown",
   "metadata": {},
   "source": [
    "# Train ensemble (with bagging)"
   ]
  },
  {
   "cell_type": "code",
   "execution_count": null,
   "metadata": {},
   "outputs": [],
   "source": [
    "np.random.seed(0)\n",
    "\n",
    "for i in range(10):\n",
    "    network = SingleLayerFullyConnected(\n",
    "        input_size=data_train_full.input_size,\n",
    "        num_classes=data_train_full.num_classes)\n",
    "\n",
    "    history = network.train(\n",
    "        data_train_full.bag(),\n",
    "        data_val_full,\n",
    "        eta=HYPERPARAMS['eta'],\n",
    "        n_epochs=HYPERPARAMS['epochs'],\n",
    "        n_dead_epochs_max=math.inf,\n",
    "        shuffle=True,\n",
    "        stop_early=True,\n",
    "        stop_early_find_best_params=True,\n",
    "        verbose=True)\n",
    "\n",
    "    history.save(PICKLE_DIR, postfix=f'bag{i}')"
   ]
  },
  {
   "cell_type": "code",
   "execution_count": null,
   "metadata": {},
   "outputs": [],
   "source": [
    "np.random.seed(0)\n",
    "\n",
    "networks = []\n",
    "for i in range(10):\n",
    "    history = TrainHistory.load(PICKLE_DIR, postfix=f'bag{i}')\n",
    "    networks.append(history.final_network)\n",
    "\n",
    "ensemble = EnsembleClassifier(networks)\n",
    "\n",
    "ensemble.visualize_performance(data_val_full)\n",
    "\n",
    "plt.savefig(os.path.join(FIGURE_DIR, 'ensemble_performance_val.svg'))"
   ]
  },
  {
   "cell_type": "code",
   "execution_count": null,
   "metadata": {},
   "outputs": [],
   "source": [
    "np.random.seed(0)\n",
    "\n",
    "networks = []\n",
    "for i in range(10):\n",
    "    history = TrainHistory.load(PICKLE_DIR, postfix=f'bag{i}')\n",
    "    networks.append(history.final_network)\n",
    "\n",
    "ensemble = EnsembleClassifier(networks)\n",
    "\n",
    "ensemble.visualize_performance(data_test_full)\n",
    "\n",
    "plt.savefig(os.path.join(FIGURE_DIR, 'ensemble_performance_test.svg'))"
   ]
  }
 ],
 "metadata": {
  "kernelspec": {
   "display_name": "Python 3",
   "language": "python",
   "name": "python3"
  },
  "language_info": {
   "codemirror_mode": {
    "name": "ipython",
    "version": 3
   },
   "file_extension": ".py",
   "mimetype": "text/x-python",
   "name": "python",
   "nbconvert_exporter": "python",
   "pygments_lexer": "ipython3",
   "version": "3.6.8"
  }
 },
 "nbformat": 4,
 "nbformat_minor": 2
}
